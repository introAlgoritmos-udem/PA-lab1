{
 "cells": [
  {
   "cell_type": "markdown",
   "id": "d31a5234",
   "metadata": {},
   "source": [
    "[![Open In Colab](https://colab.research.google.com/assets/colab-badge.svg)](https://colab.research.google.com/github/introAlgoritmos-udem/PA-lab1/blob/main/laboratorio1.ipynb)"
   ]
  },
  {
   "cell_type": "markdown",
   "id": "cb0efaf4",
   "metadata": {},
   "source": [
    "# Introducción a la logica de programación"
   ]
  },
  {
   "cell_type": "markdown",
   "id": "5b4a1ed7",
   "metadata": {},
   "source": [
    "## Objetivos\n",
    "1. Plantear algoritmos básicos mediante el uso de diagramas de flujo.\n",
    "2. Comprender el concepto de programación secuencial.\n",
    "3. Aprender a usar un IDE python para codificar programas.\n",
    "\n",
    "## Actividad\n",
    "\n",
    "Para los siguientes problemas realizar un analisis del problema de manera que aplique los conceptos vistos en clase. Antes de codificar el algoritmo se pide que realice a mano los siguientes procedimientos:\n",
    "1. Planteamiento de la solución identificando: Entradas, salidas y proceso.\n",
    "2. Realizar el diagrama de flujo del algoritmo planteado.\n",
    "3. Hacer una prueba de escritorio sencilla para verificar que el algoritmo planteado esta bien realizado.\n",
    "4. Codificar el python el algoritmo ya verificado.\n",
    "\n",
    "## Conceptos necesarios\n",
    "\n",
    "Para resolver los problemas propuestos se recomienda recordar los siguientes conceptos\n",
    "\n",
    "### Método de Polya\n",
    "\n",
    "Los pasos generales para la solución de un problema se resumen a continuación:\n",
    "1. Entender el problema.\n",
    "2. Diseñar el plan.\n",
    "3. Implementar el plan.\n",
    "4. Revisar el plan.\n",
    "\n",
    "### Almacenamiento de datos\n",
    "\n",
    "* **Variables**: Lugar de memoria donde se almacena un dato que puede ser cualquiera de los mostrados a continuación:\n",
    "  * Enteros: Variables asociadas a números enteros, es decir, sin parte decimal\n",
    "  * Reales: Variables asociadas a números reales (con parte decimal).\n",
    "  * Boleanas: Variables que pueden tomar dos posibles valores\n",
    "  * **Caracter**: Variables que pueden tomar caracter de un conjunto finito de valores reconocidos por computador\n",
    "  * **Cadena**: Arreglo compuesto por varios caracteres.          \n",
    "* **Constantes**: Dato del algoritmo que luego de ser asignado, que no puede ser modificado. \n",
    "\n",
    "\n",
    "### Diagramas de flujo\n",
    "\n",
    "Un diagrama de flujo es una forma grafica de representar un algoritmo. A continuación se muestra una breve descripción de los principales simbolos empleados para la construcción de un diagrama de flujo.\n",
    "\n",
    "![simbolos-df](simbolos-DF.png)\n",
    "\n",
    "### Resumen python\n",
    "\n",
    "En el siguiente [enlace](CC-CodeCards.pdf) se encuentra un resumen de python que será de bastante utilidad para empezar.\n",
    "\n",
    "## Problemas \n",
    "\n",
    "A continuación se presentan una serie de problemas para que practique. \n",
    "\n",
    "### Resueltos\n",
    "\n",
    "Estos problemas se explicaran en la clase.\n",
    "\n",
    "1. Realizar un programa que calcule el area de un triangulo dada su base y su altura.\n",
    "\n",
    "**Solución**: A continuación se muestra el diagrama de flujo asociado al algoritmo asociado al problema:\n",
    "\n",
    "![areas_df](areas.png)\n",
    "\n",
    "El programa codificado en python se muestra a continuación:"
   ]
  },
  {
   "cell_type": "code",
   "execution_count": 1,
   "id": "2512ba57",
   "metadata": {},
   "outputs": [
    {
     "name": "stdout",
     "output_type": "stream",
     "text": [
      "Digite la base: 34\n",
      "Digite la altura: 2\n",
      "El area del triangulo es 34.0\n"
     ]
    }
   ],
   "source": [
    "# Entrada de las dimensiones\n",
    "base = float(input(\"Digite la base: \"))\n",
    "heigh = float(input(\"Digite la altura: \"))\n",
    "\n",
    "# Calculo del area\n",
    "area = (base*heigh)/2\n",
    "\n",
    "# Despliegue del area\n",
    "print(\"El area del triangulo es\", area)"
   ]
  },
  {
   "cell_type": "markdown",
   "id": "33febdc3",
   "metadata": {},
   "source": [
    "2. Se requiere diseñar un algoritmo que calcule el número de meses que hay entre los años A y B.\n",
    "\n",
    "**Solución**: El diagrama de flujo del problema se muestra a continuación:\n",
    "\n",
    "![calculo_meses_df](calculo-meses.png)\n",
    "\n",
    "Adicionalmente el algoritmo en python se encuentra a continuación:"
   ]
  },
  {
   "cell_type": "code",
   "execution_count": 3,
   "id": "b6cf1131",
   "metadata": {},
   "outputs": [
    {
     "name": "stdout",
     "output_type": "stream",
     "text": [
      "Ingrese el año inicial: 1990\n",
      "Ingrese al año final: 2000\n",
      "El numero de meses entre 1990 y 2000 es 120\n"
     ]
    }
   ],
   "source": [
    "# Entrada de los años inicial y final\n",
    "yearInit = int(input(\"Ingrese el año inicial: \"))\n",
    "yearEnd = int(input(\"Ingrese al año final: \"))\n",
    "\n",
    "# Calculos\n",
    "years = yearEnd - yearInit\n",
    "months = 12*years\n",
    "\n",
    "# Despliegue de los meses\n",
    "print(\"El numero de meses entre\", yearInit, \"y\", yearEnd, \"es\", months)"
   ]
  },
  {
   "cell_type": "markdown",
   "id": "21395aff",
   "metadata": {},
   "source": [
    "3. Realizar un programa que solicite el nombre de una persona e imprima **Hola** seguido de su nombre. Por ejemplo, quien digita usa el programa digita **matallana**, el programa deberá imprimir **Hola Matallana**\n",
    "\n",
    "**Solución**: A continuación se muestra el diagrama de flujo del programa:\n",
    "\n",
    "![saludo-df](saludo.png)\n",
    "\n",
    "Finalmente el codigo en python se muestra a continuación:"
   ]
  },
  {
   "cell_type": "code",
   "execution_count": 4,
   "id": "54f0d61d",
   "metadata": {},
   "outputs": [
    {
     "name": "stdout",
     "output_type": "stream",
     "text": [
      "Ingrese su nombre: Matallana\n",
      "Hola Matallana\n"
     ]
    }
   ],
   "source": [
    "nom = input(\"Ingrese su nombre: \")\n",
    "print(\"Hola\",nom)"
   ]
  },
  {
   "cell_type": "markdown",
   "id": "42da7d9c",
   "metadata": {},
   "source": [
    "### Clase\n",
    "\n",
    "Estos problemas se resolveran en la clase.\n",
    "\n",
    "1. Hacer un programa que calcule el área y el perímetro de un circulo dado su radio."
   ]
  },
  {
   "cell_type": "code",
   "execution_count": null,
   "id": "3bed075d",
   "metadata": {},
   "outputs": [],
   "source": []
  },
  {
   "cell_type": "markdown",
   "id": "a6f8f46e",
   "metadata": {},
   "source": [
    "2. Hacer un programa que solicite el nombre, la identificación, el número de horas trabajadas y el valor por hora y realice el cálculo del salario neto teniendo en cuenta que se cobra un impuesto del 10% por salud y un 5% debido a pensiones."
   ]
  },
  {
   "cell_type": "code",
   "execution_count": null,
   "id": "56fb70d7",
   "metadata": {},
   "outputs": [],
   "source": []
  },
  {
   "cell_type": "markdown",
   "id": "2b69d21b",
   "metadata": {},
   "source": [
    "3. Hacer un programa que pida el nombre y la edad (en años) y retorne un mensaje con el nombre y la edad en días."
   ]
  },
  {
   "cell_type": "code",
   "execution_count": null,
   "id": "b16630ed",
   "metadata": {},
   "outputs": [],
   "source": []
  },
  {
   "cell_type": "markdown",
   "id": "1e0c34af",
   "metadata": {},
   "source": [
    "4. Hacer un programa que solicite los 2 catetos de un triangulo rectángulo y calcule su hipotenusa."
   ]
  },
  {
   "cell_type": "code",
   "execution_count": null,
   "id": "fd92f874",
   "metadata": {},
   "outputs": [],
   "source": []
  },
  {
   "cell_type": "markdown",
   "id": "7ba1b697",
   "metadata": {},
   "source": [
    "5. Diseñar un algoritmo que lea dos valores reales y nos muestre los resultados de sumar, restar, dividir y multiplicar dichos números."
   ]
  },
  {
   "cell_type": "code",
   "execution_count": null,
   "id": "2948f342",
   "metadata": {},
   "outputs": [],
   "source": []
  },
  {
   "cell_type": "markdown",
   "id": "d9b33763",
   "metadata": {},
   "source": [
    "6. Si una persona corta sus uñas en promedio una vez por cada 1.5 semanas, dada la edad de una persona calcular cuantas veces ha cortado sus uñas en toda su vida. Adicionalmente, si en cada corte en promedio obtiene 0.5 gramos del material de la uñas cuantos kilos lleva en su existencia."
   ]
  },
  {
   "cell_type": "code",
   "execution_count": null,
   "id": "a02eced4",
   "metadata": {},
   "outputs": [],
   "source": []
  },
  {
   "cell_type": "markdown",
   "id": "cdf8a559",
   "metadata": {},
   "source": [
    "### Casa\n",
    "\n",
    "Estos problemas se dejaran para la casa.\n",
    "\n",
    "1. En una casa de cambio necesitan construir un programa tal que dado como dato una cantidad expresada en dolares, convierta esa candidad a pesos. Tenga en cuenta que 1 dolar equivale a 3939.31 pesos."
   ]
  },
  {
   "cell_type": "code",
   "execution_count": null,
   "id": "6284d412",
   "metadata": {},
   "outputs": [],
   "source": []
  },
  {
   "cell_type": "markdown",
   "id": "130975a0",
   "metadata": {},
   "source": [
    "2. Una persona compro una estancia en un pais suramericano. La extención de la estancia esta especificada en acres. Realizar un programa que dado como dato la extención del campo en acres, calcule e imprima la extensión de este en hectareas. Tenga en cuenta que:\n",
    "  * 1 acre es igual a 4047 metros cuadrados.\n",
    "  * 1 hectarea = 10000 metros cuadrados."
   ]
  },
  {
   "cell_type": "code",
   "execution_count": null,
   "id": "f23bab2a",
   "metadata": {},
   "outputs": [],
   "source": []
  },
  {
   "cell_type": "markdown",
   "id": "6837305a",
   "metadata": {},
   "source": [
    "3. Dada la estabilidad económica que existe en un determinado país de America Latina, las agencias automotrices comienzan a ofrecer distintos planes de financiamiento para la comercialización de sus vehículos. La empresa **XGW** ofrece el siguiente plan de financiación: Dado el monto total del vehiculo, el cliente debe pagar el 35\\% de enganche y el resto en 18 mensualidades sin interes. Realice un programa que permita obtener cuál es el importe de enganche y las mensualidades que debe pagar el cliente."
   ]
  },
  {
   "cell_type": "code",
   "execution_count": null,
   "id": "0cd882c2",
   "metadata": {},
   "outputs": [],
   "source": []
  },
  {
   "cell_type": "markdown",
   "id": "979a515a",
   "metadata": {},
   "source": [
    "4. La empresa **Mi cacharrito** ofrece planes de financiación hasta 36 meses con un enganche del 35\\% pero aplicando al saldo restante una tasa de interes global del 12\\%. Realice un programa que permita obtener el importe del enganche como el de las mensualidades que debe pagar el cliente. "
   ]
  },
  {
   "cell_type": "code",
   "execution_count": null,
   "id": "bf2e0d2c",
   "metadata": {},
   "outputs": [],
   "source": []
  },
  {
   "cell_type": "markdown",
   "id": "0a95d88a",
   "metadata": {},
   "source": [
    "\n",
    "## Enlaces\n",
    "* https://github.com/zhiwehu/Python-programming-exercises\n",
    "* https://github.com/zhiwehu/Python-programming-exercises/blob/master/100%2B%20Python%20challenging%20programming%20exercises%20for%20Python%203.md\n",
    "* https://www.udemy.com/course/python-exercises-for-beginners-solve-coding-challenges/?utm_source=adwords&utm_medium=udemyads&utm_campaign=LongTail_la.EN_cc.ROW&utm_content=deal4584&utm_term=_._ag_77879424134_._ad_535397279649_._kw__._de_c_._dm__._pl__._ti_dsa-1007766171312_._li_1029412_._pd__._&matchtype=&gclid=Cj0KCQiAjJOQBhCkARIsAEKMtO06bIbJm88wg55-kBsICwD89a-tosOipFzpOZmN_avAM5bgPP9wdAsaArKqEALw_wcB\n",
    "* https://www.w3resource.com/python-exercises/\n",
    "* https://devhumor.com/\n",
    "* https://xkcd.com/"
   ]
  }
 ],
 "metadata": {
  "kernelspec": {
   "display_name": "Python 3",
   "language": "python",
   "name": "python3"
  },
  "language_info": {
   "codemirror_mode": {
    "name": "ipython",
    "version": 3
   },
   "file_extension": ".py",
   "mimetype": "text/x-python",
   "name": "python",
   "nbconvert_exporter": "python",
   "pygments_lexer": "ipython3",
   "version": "3.8.8"
  }
 },
 "nbformat": 4,
 "nbformat_minor": 5
}
